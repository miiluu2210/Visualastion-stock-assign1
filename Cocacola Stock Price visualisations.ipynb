{
 "cells": [
  {
   "cell_type": "code",
   "execution_count": 3,
   "metadata": {},
   "outputs": [],
   "source": [
    "import pandas as pd\n",
    "import numpy as np\n",
    "import matplotlib.pyplot as plt"
   ]
  },
  {
   "cell_type": "code",
   "execution_count": 9,
   "metadata": {},
   "outputs": [
    {
     "data": {
      "text/html": [
       "<div>\n",
       "<style scoped>\n",
       "    .dataframe tbody tr th:only-of-type {\n",
       "        vertical-align: middle;\n",
       "    }\n",
       "\n",
       "    .dataframe tbody tr th {\n",
       "        vertical-align: top;\n",
       "    }\n",
       "\n",
       "    .dataframe thead th {\n",
       "        text-align: right;\n",
       "    }\n",
       "</style>\n",
       "<table border=\"1\" class=\"dataframe\">\n",
       "  <thead>\n",
       "    <tr style=\"text-align: right;\">\n",
       "      <th></th>\n",
       "      <th>Date</th>\n",
       "      <th>Open</th>\n",
       "      <th>High</th>\n",
       "      <th>Low</th>\n",
       "      <th>Close</th>\n",
       "      <th>Adj Close</th>\n",
       "      <th>Volume</th>\n",
       "    </tr>\n",
       "  </thead>\n",
       "  <tbody>\n",
       "    <tr>\n",
       "      <th>0</th>\n",
       "      <td>2019-07-01</td>\n",
       "      <td>51.070000</td>\n",
       "      <td>51.630001</td>\n",
       "      <td>50.779999</td>\n",
       "      <td>51.599998</td>\n",
       "      <td>49.949841</td>\n",
       "      <td>14976400</td>\n",
       "    </tr>\n",
       "    <tr>\n",
       "      <th>1</th>\n",
       "      <td>2019-07-02</td>\n",
       "      <td>51.779999</td>\n",
       "      <td>52.049999</td>\n",
       "      <td>51.549999</td>\n",
       "      <td>51.980000</td>\n",
       "      <td>50.317688</td>\n",
       "      <td>8569200</td>\n",
       "    </tr>\n",
       "    <tr>\n",
       "      <th>2</th>\n",
       "      <td>2019-07-03</td>\n",
       "      <td>52.000000</td>\n",
       "      <td>52.330002</td>\n",
       "      <td>52.000000</td>\n",
       "      <td>52.099998</td>\n",
       "      <td>50.433849</td>\n",
       "      <td>7253700</td>\n",
       "    </tr>\n",
       "    <tr>\n",
       "      <th>3</th>\n",
       "      <td>2019-07-05</td>\n",
       "      <td>51.889999</td>\n",
       "      <td>52.119999</td>\n",
       "      <td>51.480000</td>\n",
       "      <td>52.110001</td>\n",
       "      <td>50.443535</td>\n",
       "      <td>8916300</td>\n",
       "    </tr>\n",
       "    <tr>\n",
       "      <th>4</th>\n",
       "      <td>2019-07-08</td>\n",
       "      <td>52.200001</td>\n",
       "      <td>52.330002</td>\n",
       "      <td>51.889999</td>\n",
       "      <td>52.000000</td>\n",
       "      <td>50.337048</td>\n",
       "      <td>9495100</td>\n",
       "    </tr>\n",
       "    <tr>\n",
       "      <th>...</th>\n",
       "      <td>...</td>\n",
       "      <td>...</td>\n",
       "      <td>...</td>\n",
       "      <td>...</td>\n",
       "      <td>...</td>\n",
       "      <td>...</td>\n",
       "      <td>...</td>\n",
       "    </tr>\n",
       "    <tr>\n",
       "      <th>248</th>\n",
       "      <td>2020-06-24</td>\n",
       "      <td>45.369999</td>\n",
       "      <td>45.439999</td>\n",
       "      <td>44.500000</td>\n",
       "      <td>44.650002</td>\n",
       "      <td>44.650002</td>\n",
       "      <td>17631800</td>\n",
       "    </tr>\n",
       "    <tr>\n",
       "      <th>249</th>\n",
       "      <td>2020-06-25</td>\n",
       "      <td>44.470001</td>\n",
       "      <td>44.980000</td>\n",
       "      <td>44.029999</td>\n",
       "      <td>44.930000</td>\n",
       "      <td>44.930000</td>\n",
       "      <td>13829700</td>\n",
       "    </tr>\n",
       "    <tr>\n",
       "      <th>250</th>\n",
       "      <td>2020-06-26</td>\n",
       "      <td>44.919998</td>\n",
       "      <td>45.009998</td>\n",
       "      <td>43.509998</td>\n",
       "      <td>43.570000</td>\n",
       "      <td>43.570000</td>\n",
       "      <td>21955100</td>\n",
       "    </tr>\n",
       "    <tr>\n",
       "      <th>251</th>\n",
       "      <td>2020-06-29</td>\n",
       "      <td>44.000000</td>\n",
       "      <td>44.570000</td>\n",
       "      <td>43.549999</td>\n",
       "      <td>44.360001</td>\n",
       "      <td>44.360001</td>\n",
       "      <td>17603900</td>\n",
       "    </tr>\n",
       "    <tr>\n",
       "      <th>252</th>\n",
       "      <td>2020-06-30</td>\n",
       "      <td>44.250000</td>\n",
       "      <td>44.830002</td>\n",
       "      <td>44.040001</td>\n",
       "      <td>44.680000</td>\n",
       "      <td>44.680000</td>\n",
       "      <td>23675800</td>\n",
       "    </tr>\n",
       "  </tbody>\n",
       "</table>\n",
       "<p>253 rows × 7 columns</p>\n",
       "</div>"
      ],
      "text/plain": [
       "           Date       Open       High        Low      Close  Adj Close  \\\n",
       "0    2019-07-01  51.070000  51.630001  50.779999  51.599998  49.949841   \n",
       "1    2019-07-02  51.779999  52.049999  51.549999  51.980000  50.317688   \n",
       "2    2019-07-03  52.000000  52.330002  52.000000  52.099998  50.433849   \n",
       "3    2019-07-05  51.889999  52.119999  51.480000  52.110001  50.443535   \n",
       "4    2019-07-08  52.200001  52.330002  51.889999  52.000000  50.337048   \n",
       "..          ...        ...        ...        ...        ...        ...   \n",
       "248  2020-06-24  45.369999  45.439999  44.500000  44.650002  44.650002   \n",
       "249  2020-06-25  44.470001  44.980000  44.029999  44.930000  44.930000   \n",
       "250  2020-06-26  44.919998  45.009998  43.509998  43.570000  43.570000   \n",
       "251  2020-06-29  44.000000  44.570000  43.549999  44.360001  44.360001   \n",
       "252  2020-06-30  44.250000  44.830002  44.040001  44.680000  44.680000   \n",
       "\n",
       "       Volume  \n",
       "0    14976400  \n",
       "1     8569200  \n",
       "2     7253700  \n",
       "3     8916300  \n",
       "4     9495100  \n",
       "..        ...  \n",
       "248  17631800  \n",
       "249  13829700  \n",
       "250  21955100  \n",
       "251  17603900  \n",
       "252  23675800  \n",
       "\n",
       "[253 rows x 7 columns]"
      ]
     },
     "execution_count": 9,
     "metadata": {},
     "output_type": "execute_result"
    }
   ],
   "source": [
    "dtcoca = pd.read_csv('KO.csv')\n",
    "dtcoca"
   ]
  },
  {
   "cell_type": "code",
   "execution_count": 11,
   "metadata": {},
   "outputs": [
    {
     "data": {
      "text/plain": [
       "array([51.630001, 52.049999, 52.330002, 52.119999, 52.330002, 51.970001,\n",
       "       51.970001, 52.060001, 52.290001, 52.290001, 52.470001, 52.259998,\n",
       "       52.169998, 52.150002, 51.52    , 54.639999, 54.82    , 53.799999,\n",
       "       54.310001, 54.299999, 54.299999, 53.509998, 53.200001, 52.73    ,\n",
       "       52.66    , 52.759998, 53.389999, 53.779999, 53.900002, 53.439999,\n",
       "       53.610001, 53.970001, 54.      , 54.490002, 54.779999, 54.68    ,\n",
       "       54.41    , 54.639999, 54.709999, 54.540001, 54.950001, 55.150002,\n",
       "       55.34    , 55.220001, 55.330002, 55.919998, 55.77    , 55.439999,\n",
       "       55.080002, 54.439999, 54.799999, 55.310001, 54.790001, 54.34    ,\n",
       "       54.700001, 54.290001, 54.599998, 54.689999, 54.360001, 54.610001,\n",
       "       54.48    , 54.580002, 54.639999, 54.68    , 54.779999, 54.439999,\n",
       "       53.98    , 54.540001, 54.360001, 54.07    , 54.07    , 53.880001,\n",
       "       53.700001, 53.68    , 53.68    , 53.57    , 54.119999, 55.389999,\n",
       "       54.560001, 54.419998, 54.66    , 54.82    , 54.560001, 53.950001,\n",
       "       53.66    , 54.049999, 54.470001, 54.740002, 54.      , 52.889999,\n",
       "       52.799999, 53.      , 52.599998, 52.369999, 51.91    , 52.450001,\n",
       "       52.669998, 52.68    , 53.439999, 53.310001, 53.400002, 53.34    ,\n",
       "       53.189999, 53.389999, 53.939999, 54.099998, 53.73    , 53.75    ,\n",
       "       53.84    , 54.310001, 54.290001, 54.5     , 54.509998, 54.07    ,\n",
       "       54.150002, 54.450001, 54.549999, 54.830002, 54.580002, 54.75    ,\n",
       "       54.34    , 55.200001, 55.240002, 55.      , 55.02    , 55.450001,\n",
       "       55.389999, 55.380001, 55.43    , 54.990002, 54.91    , 54.599998,\n",
       "       54.639999, 55.400002, 55.93    , 56.23    , 56.290001, 56.98    ,\n",
       "       56.950001, 57.150002, 57.25    , 57.639999, 57.849998, 57.869999,\n",
       "       57.849998, 57.75    , 57.259998, 58.98    , 59.080002, 58.970001,\n",
       "       59.450001, 59.080002, 59.34    , 59.32    , 59.84    , 59.799999,\n",
       "       59.77    , 59.84    , 60.07    , 59.93    , 60.      , 59.860001,\n",
       "       60.130001, 59.799999, 59.200001, 58.470001, 57.889999, 53.889999,\n",
       "       55.959999, 57.490002, 59.      , 58.169998, 55.91    , 53.580002,\n",
       "       53.799999, 52.650002, 49.93    , 49.560001, 47.880001, 47.5     ,\n",
       "       45.150002, 44.66    , 42.07    , 38.889999, 41.400002, 43.450001,\n",
       "       45.27    , 44.029999, 45.560001, 45.509998, 43.650002, 44.189999,\n",
       "       44.34    , 47.009998, 48.599998, 48.09    , 49.73    , 48.639999,\n",
       "       49.25    , 48.400002, 47.849998, 48.299999, 48.      , 46.900002,\n",
       "       46.150002, 46.099998, 45.75    , 46.98    , 48.      , 47.860001,\n",
       "       47.      , 46.389999, 45.48    , 46.099998, 45.630001, 45.240002,\n",
       "       46.220001, 46.110001, 45.849998, 44.779999, 44.060001, 44.689999,\n",
       "       45.389999, 45.330002, 46.169998, 46.09    , 45.310001, 46.93    ,\n",
       "       47.09    , 47.459999, 47.189999, 47.23    , 47.279999, 48.119999,\n",
       "       48.27    , 49.490002, 49.970001, 49.59    , 49.27    , 47.919998,\n",
       "       46.25    , 46.450001, 47.689999, 47.060001, 47.040001, 47.790001,\n",
       "       46.150002, 46.290001, 45.439999, 44.98    , 45.009998, 44.57    ,\n",
       "       44.830002])"
      ]
     },
     "execution_count": 11,
     "metadata": {},
     "output_type": "execute_result"
    }
   ],
   "source": [
    "high_np = dtcoca['High'].values\n",
    "high_np"
   ]
  },
  {
   "cell_type": "code",
   "execution_count": 13,
   "metadata": {},
   "outputs": [
    {
     "data": {
      "text/plain": [
       "0      51.630001\n",
       "1      52.049999\n",
       "2      52.330002\n",
       "3      52.119999\n",
       "4      52.330002\n",
       "         ...    \n",
       "248    45.439999\n",
       "249    44.980000\n",
       "250    45.009998\n",
       "251    44.570000\n",
       "252    44.830002\n",
       "Name: High, Length: 253, dtype: float64"
      ]
     },
     "execution_count": 13,
     "metadata": {},
     "output_type": "execute_result"
    }
   ],
   "source": [
    "high_series= dtcoca['High']\n",
    "high_series"
   ]
  },
  {
   "cell_type": "code",
   "execution_count": 21,
   "metadata": {},
   "outputs": [
    {
     "data": {
      "image/png": "[encoded data removed]",
      "text/plain": [
       "<Figure size 432x288 with 1 Axes>"
      ]
     },
     "metadata": {
      "needs_background": "light"
     },
     "output_type": "display_data"
    }
   ],
   "source": [
    "dtcoca['Low'].plot(color = 'r', style='.', legend = True)\n",
    "high_series.plot(color='b', style = '-', legend = True)\n",
    "plt.show()"
   ]
  },
  {
   "cell_type": "code",
   "execution_count": 19,
   "metadata": {},
   "outputs": [
    {
     "data": {
      "image/png": "[encoded data removed]",
      "text/plain": [
       "<Figure size 432x288 with 1 Axes>"
      ]
     },
     "metadata": {
      "needs_background": "light"
     },
     "output_type": "display_data"
    }
   ],
   "source": [
    "high_series.hist(color = 'y', bins = 5)\n",
    "plt.show()"
   ]
  },
  {
   "cell_type": "code",
   "execution_count": null,
   "metadata": {},
   "outputs": [],
   "source": []
  }
 ],
 "metadata": {
  "kernelspec": {
   "display_name": "Python 3",
   "language": "python",
   "name": "python3"
  },
  "language_info": {
   "codemirror_mode": {
    "name": "ipython",
    "version": 3
   },
   "file_extension": ".py",
   "mimetype": "text/x-python",
   "name": "python",
   "nbconvert_exporter": "python",
   "pygments_lexer": "ipython3",
   "version": "3.7.6"
  }
 },
 "nbformat": 4,
 "nbformat_minor": 4
}
